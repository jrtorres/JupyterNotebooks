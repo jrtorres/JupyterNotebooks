{
 "cells": [
  {
   "cell_type": "code",
   "execution_count": null,
   "metadata": {},
   "outputs": [],
   "source": [
    "# Run this cell if you need to install the Python SDK. You may have to restart the Jupyter kernel after the install\n",
    "!pip install watson_developer_cloud --user --upgrade"
   ]
  },
  {
   "cell_type": "code",
   "execution_count": null,
   "metadata": {},
   "outputs": [],
   "source": [
    "# Imports the necessary libraries from Watson SDK.\n",
    "import sys\n",
    "import os\n",
    "import json\n",
    "import watson_developer_cloud\n",
    "from watson_developer_cloud import VisualRecognitionV3"
   ]
  },
  {
   "cell_type": "code",
   "execution_count": null,
   "metadata": {},
   "outputs": [],
   "source": [
    "########################## UPDATE KEY HERE ##########################\n",
    "VR_IAM_API_KEY = 'yS3kzxF8dPfFb42RsDjYkK43QePHzvKcHe06_gn9Sdxu'\n",
    "#####################################################################\n",
    "VR_VERSION = '2018-03-19'\n",
    "VR_URL = 'https://gateway.watsonplatform.net/visual-recognition/api'\n",
    "\n",
    "vr_service = VisualRecognitionV3(\n",
    "    VR_VERSION,\n",
    "    url=VR_URL,\n",
    "    iam_apikey=VR_IAM_API_KEY)\n"
   ]
  },
  {
   "cell_type": "code",
   "execution_count": null,
   "metadata": {},
   "outputs": [],
   "source": [
    "LOCAL_FILE_PATH = '/tmp/watson-vehicle-damage-analyzer/test/data/motorcycleAccidentTest.jpg'\n",
    "\n",
    "#Runs Visual Recognition using all IBM pre-trained models and all User defined customer models\n",
    "with open(LOCAL_FILE_PATH, 'rb') as images_file:\n",
    "    classes = vr_service.classify(\n",
    "        images_file,\n",
    "        threshold='0.0',\n",
    "        owners=[\"IBM\",\"me\"]).get_result()\n",
    "    print(json.dumps(classes, indent=2))\n",
    "   "
   ]
  },
  {
   "cell_type": "code",
   "execution_count": null,
   "metadata": {},
   "outputs": [],
   "source": []
  }
 ],
 "metadata": {
  "anaconda-cloud": {},
  "kernelspec": {
   "display_name": "Python 3",
   "language": "python",
   "name": "python3"
  },
  "language_info": {
   "codemirror_mode": {
    "name": "ipython",
    "version": 3
   },
   "file_extension": ".py",
   "mimetype": "text/x-python",
   "name": "python",
   "nbconvert_exporter": "python",
   "pygments_lexer": "ipython3",
   "version": "3.7.0"
  }
 },
 "nbformat": 4,
 "nbformat_minor": 2
}
